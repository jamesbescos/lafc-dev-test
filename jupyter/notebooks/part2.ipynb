{
 "cells": [
  {
   "cell_type": "code",
   "execution_count": 36,
   "id": "fe0bff79-f5f0-4024-aa60-c88a2193ed64",
   "metadata": {
    "jupyter": {
     "source_hidden": true
    }
   },
   "outputs": [],
   "source": [
    "import os\n",
    "import pandas as pd\n",
    "from sqlalchemy import create_engine"
   ]
  },
  {
   "cell_type": "code",
   "execution_count": 37,
   "id": "648e5423-04b6-4d36-a497-7b7f9d9cb6ba",
   "metadata": {
    "jupyter": {
     "source_hidden": true
    }
   },
   "outputs": [],
   "source": [
    "POSTGRES_HOST = os.environ.get(\"POSTGRES_HOST\")\n",
    "POSTGRES_DB = os.environ.get(\"POSTGRES_DB\")\n",
    "POSTGRES_USER = os.environ.get(\"POSTGRES_USER\")\n",
    "POSTGRES_PASSWORD = os.environ.get(\"POSTGRES_PASSWORD\")\n",
    "POSTGRES_URL = f\"postgresql://{POSTGRES_USER}:{POSTGRES_PASSWORD}@{POSTGRES_HOST}/{POSTGRES_DB}\""
   ]
  },
  {
   "cell_type": "code",
   "execution_count": 38,
   "id": "5d732bbe-935e-4f4a-89ce-e204865579cf",
   "metadata": {
    "jupyter": {
     "source_hidden": true
    }
   },
   "outputs": [],
   "source": [
    "engine = create_engine(POSTGRES_URL)"
   ]
  },
  {
   "cell_type": "code",
   "execution_count": 45,
   "id": "63fbe2b9-a3d6-424b-b7be-5d004fc4eeaa",
   "metadata": {
    "jupyter": {
     "source_hidden": true
    }
   },
   "outputs": [],
   "source": [
    "def get_view_definition(view_name):\n",
    "    query = \"\"\"\n",
    "    SELECT view_definition\n",
    "    FROM information_schema.views\n",
    "    WHERE table_name = %s\n",
    "    \"\"\"\n",
    "\n",
    "    try:\n",
    "        with engine.connect() as connection:\n",
    "            result = pd.read_sql_query(\n",
    "                query, \n",
    "                connection, \n",
    "                params=(view_name,)\n",
    "            )\n",
    "            if not result.empty:\n",
    "                return result.iloc[0]['view_definition']\n",
    "            else:\n",
    "                return f\"View '{view_name}' not found\"\n",
    "    except Exception as e:\n",
    "        return f\"Error retrieving view definition: {e}\"\n"
   ]
  },
  {
   "cell_type": "code",
   "execution_count": 46,
   "id": "55280279-3fa2-4096-a122-eeefb5d0bcab",
   "metadata": {
    "jupyter": {
     "source_hidden": true
    }
   },
   "outputs": [],
   "source": [
    "def get_view_sample_data(view_name):\n",
    "    query = f\"SELECT * FROM {view_name} LIMIT 10\"\n",
    "\n",
    "    try:\n",
    "        with engine.connect() as connection:\n",
    "            result = pd.read_sql_query(query, connection)\n",
    "            if not result.empty:\n",
    "                return result\n",
    "            else:\n",
    "                return f\"View '{view_name}' not found\"\n",
    "    except Exception as e:\n",
    "        return f\"Error querying view: {e}\""
   ]
  },
  {
   "cell_type": "code",
   "execution_count": 61,
   "id": "a030b67d-73f3-45a8-83c1-e9018327e47d",
   "metadata": {
    "jupyter": {
     "source_hidden": true
    }
   },
   "outputs": [
    {
     "name": "stdout",
     "output_type": "stream",
     "text": [
      "\n",
      "Question 1 Query:\n",
      "\n",
      " WITH member_sections_2022 AS (\n",
      "         SELECT DISTINCT t.acct_id,\n",
      "            t.section_name\n",
      "           FROM tickets t\n",
      "          WHERE (((t.plan_event_name)::text ~~ '22FS%'::text) AND (t.ticket_status = ANY (ARRAY['A'::bpchar, 'Active'::bpchar])))\n",
      "        )\n",
      " SELECT acct_id,\n",
      "    array_agg(section_name) AS sections\n",
      "   FROM member_sections_2022\n",
      "  GROUP BY acct_id;\n",
      "\n",
      "\n"
     ]
    }
   ],
   "source": [
    "q1_query = get_view_definition('vw_question_1')\n",
    "print('\\nQuestion 1 Query:\\n')\n",
    "print(q1_query)\n",
    "print('\\n')"
   ]
  },
  {
   "cell_type": "code",
   "execution_count": 53,
   "id": "9e5e5b3a-7de8-4951-a746-ddba0d359e46",
   "metadata": {
    "jupyter": {
     "source_hidden": true
    }
   },
   "outputs": [
    {
     "name": "stdout",
     "output_type": "stream",
     "text": [
      "\n",
      "Question 1 Sample Data:\n",
      "\n",
      "   acct_id      sections\n",
      "0    19522      [FLDCLD]\n",
      "1    19231      [FLDCLE]\n",
      "2    18571       [SUPP1]\n",
      "3    10276      [FNDCLB]\n",
      "4    20950         [107]\n",
      "5    10201      [FLCDWC]\n",
      "6    36037  [225, SUPP5]\n",
      "7    18181       [SUPP2]\n",
      "8    35532         [211]\n",
      "9    50967         [109]\n",
      "\n",
      "\n"
     ]
    }
   ],
   "source": [
    "q1_sample_data = get_view_sample_data('vw_question_1')\n",
    "print('\\nQuestion 1 Sample Data:\\n')\n",
    "print(q1_sample_data)\n",
    "print('\\n')"
   ]
  },
  {
   "cell_type": "code",
   "execution_count": 54,
   "id": "9f6d8254-e763-40ce-91b2-a47d1cec63d0",
   "metadata": {
    "jupyter": {
     "source_hidden": true
    }
   },
   "outputs": [
    {
     "name": "stdout",
     "output_type": "stream",
     "text": [
      "\n",
      "Question 2 Query:\n",
      "\n",
      " WITH acct_ticket_spend AS (\n",
      "         SELECT t.acct_id,\n",
      "            sum(\n",
      "                CASE\n",
      "                    WHEN (EXTRACT(year FROM e.event_date) = (2021)::numeric) THEN t.purchase_price\n",
      "                    ELSE (0)::numeric\n",
      "                END) AS ticket_spend_2021,\n",
      "            sum(\n",
      "                CASE\n",
      "                    WHEN (EXTRACT(year FROM e.event_date) = (2022)::numeric) THEN t.purchase_price\n",
      "                    ELSE (0)::numeric\n",
      "                END) AS ticket_spend_2022\n",
      "           FROM (tickets t\n",
      "             LEFT JOIN events e ON ((t.event_id = e.event_id)))\n",
      "          WHERE ((t.ticket_status = ANY (ARRAY['A'::bpchar, 'Active'::bpchar])) AND (t.purchase_price IS NOT NULL))\n",
      "          GROUP BY t.acct_id\n",
      "        ), acct_merch_spend AS (\n",
      "         SELECT m.acct_id,\n",
      "            COALESCE(sum(m.line_total), (0)::numeric) AS merch_spend\n",
      "           FROM merchandise m\n",
      "          GROUP BY m.acct_id\n",
      "        )\n",
      " SELECT COALESCE(ts.acct_id, ms.acct_id) AS acct_id,\n",
      "    COALESCE(ts.ticket_spend_2021, (0)::numeric) AS ticket_spend_2021,\n",
      "    COALESCE(ts.ticket_spend_2022, (0)::numeric) AS ticket_spend_2022,\n",
      "    COALESCE(ms.merch_spend, (0)::numeric) AS merchandise_spend\n",
      "   FROM (acct_ticket_spend ts\n",
      "     FULL JOIN acct_merch_spend ms ON ((ms.acct_id = ts.acct_id)));\n",
      "\n",
      "\n"
     ]
    }
   ],
   "source": [
    "q2_query = get_view_definition('vw_question_2')\n",
    "print('\\nQuestion 2 Query:\\n')\n",
    "print(q2_query)\n",
    "print('\\n')"
   ]
  },
  {
   "cell_type": "code",
   "execution_count": 55,
   "id": "2b06e9be-4348-4acc-9c42-882c6547af1a",
   "metadata": {
    "jupyter": {
     "source_hidden": true
    }
   },
   "outputs": [
    {
     "name": "stdout",
     "output_type": "stream",
     "text": [
      "\n",
      "Question 2 Sample Data:\n",
      "\n",
      "   acct_id  ticket_spend_2021  ticket_spend_2022  merchandise_spend\n",
      "0       -2             114.00             454.50               0.00\n",
      "1      503               0.00               0.00               0.00\n",
      "2    10001            1349.26             343.22               0.00\n",
      "3    10003            7229.22            6572.16               0.00\n",
      "4    10007            5667.08            7370.16               0.00\n",
      "5    10009            2560.78            3380.04              40.49\n",
      "6    10011            2698.52            3653.12               0.00\n",
      "7    10012            2960.78            3982.10               0.00\n",
      "8    10013            5201.52               0.00               0.00\n",
      "9    10014            2295.76            3108.04               0.00\n",
      "\n",
      "\n"
     ]
    }
   ],
   "source": [
    "q2_sample_data = get_view_sample_data('vw_question_2')\n",
    "print('\\nQuestion 2 Sample Data:\\n')\n",
    "print(q2_sample_data)\n",
    "print('\\n')"
   ]
  },
  {
   "cell_type": "code",
   "execution_count": 56,
   "id": "2a97f734-2522-4c74-b32c-3ccef0dcd1de",
   "metadata": {
    "jupyter": {
     "source_hidden": true
    }
   },
   "outputs": [
    {
     "name": "stdout",
     "output_type": "stream",
     "text": [
      "\n",
      "Question 3 Query:\n",
      "\n",
      " WITH earliest_ticket_purchases AS (\n",
      "         SELECT t.acct_id,\n",
      "            min(e.event_date) AS first_purchase\n",
      "           FROM (tickets t\n",
      "             JOIN events e ON ((t.event_id = e.event_id)))\n",
      "          WHERE (t.ticket_status = ANY (ARRAY['A'::bpchar, 'Active'::bpchar]))\n",
      "          GROUP BY t.acct_id\n",
      "        ), earliest_merch_purchases AS (\n",
      "         SELECT merchandise.acct_id,\n",
      "            min(merchandise.order_date) AS first_purchase\n",
      "           FROM merchandise\n",
      "          GROUP BY merchandise.acct_id\n",
      "        )\n",
      " SELECT acct_id,\n",
      "    min(first_purchase) AS earliest_purchase_date\n",
      "   FROM ( SELECT earliest_ticket_purchases.acct_id,\n",
      "            earliest_ticket_purchases.first_purchase\n",
      "           FROM earliest_ticket_purchases\n",
      "        UNION ALL\n",
      "         SELECT earliest_merch_purchases.acct_id,\n",
      "            earliest_merch_purchases.first_purchase\n",
      "           FROM earliest_merch_purchases) purchases\n",
      "  GROUP BY acct_id;\n",
      "\n",
      "\n"
     ]
    }
   ],
   "source": [
    "q3_query = get_view_definition('vw_question_3')\n",
    "print('\\nQuestion 3 Query:\\n')\n",
    "print(q3_query)\n",
    "print('\\n')"
   ]
  },
  {
   "cell_type": "code",
   "execution_count": 57,
   "id": "f6ae0063-91f7-4f92-bace-043574919ad1",
   "metadata": {
    "jupyter": {
     "source_hidden": true
    }
   },
   "outputs": [
    {
     "name": "stdout",
     "output_type": "stream",
     "text": [
      "\n",
      "Question 3 Sample Data:\n",
      "\n",
      "    acct_id earliest_purchase_date\n",
      "0     75262             2021-06-19\n",
      "1  10502369             2022-03-03\n",
      "2     18803             2021-06-19\n",
      "3    156152             2021-06-23\n",
      "4   9452433             2021-08-04\n",
      "5  10576058             2022-03-06\n",
      "6     31789             2021-06-19\n",
      "7   2620583             2021-05-15\n",
      "8  10438653             2022-02-26\n",
      "9     20549             2021-06-19\n",
      "\n",
      "\n"
     ]
    }
   ],
   "source": [
    "q3_sample_data = get_view_sample_data('vw_question_3')\n",
    "print('\\nQuestion 3 Sample Data:\\n')\n",
    "print(q3_sample_data)\n",
    "print('\\n')"
   ]
  },
  {
   "cell_type": "code",
   "execution_count": 58,
   "id": "fd58e170-28e8-496a-9b7c-c90de7f01f53",
   "metadata": {
    "jupyter": {
     "source_hidden": true
    }
   },
   "outputs": [
    {
     "name": "stdout",
     "output_type": "stream",
     "text": [
      "\n",
      "Question 4 Query:\n",
      "\n",
      " WITH last_match AS (\n",
      "         SELECT events.event_id\n",
      "           FROM events\n",
      "          WHERE (((events.season_name)::text = '2022 LAFC Season'::text) AND ((events.minor_category)::text = 'MLS SOCCER'::text))\n",
      "          ORDER BY events.event_date DESC\n",
      "         LIMIT 1\n",
      "        ), sections AS (\n",
      "         SELECT m.section_id,\n",
      "            sum(COALESCE((m.num_seats)::integer, 0)) AS capacity\n",
      "           FROM manifests m\n",
      "          GROUP BY m.section_id\n",
      "        )\n",
      " SELECT s.section_id,\n",
      "    ((count(t.ticket_id))::double precision / (NULLIF(s.capacity, 0))::double precision) AS sell_through_rate\n",
      "   FROM (sections s\n",
      "     LEFT JOIN tickets t ON (((t.section_id = s.section_id) AND (t.event_id = ( SELECT last_match.event_id\n",
      "           FROM last_match)) AND (t.ticket_status = ANY (ARRAY['A'::bpchar, 'Active'::bpchar])))))\n",
      "  GROUP BY s.section_id, s.capacity;\n",
      "\n",
      "\n"
     ]
    }
   ],
   "source": [
    "q4_query = get_view_definition('vw_question_4')\n",
    "print('\\nQuestion 4 Query:\\n')\n",
    "print(q4_query)\n",
    "print('\\n')"
   ]
  },
  {
   "cell_type": "code",
   "execution_count": 59,
   "id": "7527970a-3162-47bc-a6f7-eb91083854de",
   "metadata": {
    "jupyter": {
     "source_hidden": true
    }
   },
   "outputs": [
    {
     "name": "stdout",
     "output_type": "stream",
     "text": [
      "\n",
      "Question 4 Sample Data:\n",
      "\n",
      "   section_id  sell_through_rate\n",
      "0        1267           0.952727\n",
      "1        1268           0.714286\n",
      "2        1269           0.833333\n",
      "3        1270           0.833333\n",
      "4        1271           1.000000\n",
      "5        1272           1.000000\n",
      "6        1273           0.333333\n",
      "7        1274           0.656475\n",
      "8        1275           0.181818\n",
      "9        1276           0.989035\n",
      "\n",
      "\n"
     ]
    }
   ],
   "source": [
    "q4_sample_data = get_view_sample_data('vw_question_4')\n",
    "print('\\nQuestion 4 Sample Data:\\n')\n",
    "print(q4_sample_data)\n",
    "print('\\n')"
   ]
  },
  {
   "cell_type": "code",
   "execution_count": null,
   "id": "29f1e270-005e-418c-8ec8-42f01e2e1be3",
   "metadata": {},
   "outputs": [],
   "source": []
  }
 ],
 "metadata": {
  "kernelspec": {
   "display_name": "Python 3 (ipykernel)",
   "language": "python",
   "name": "python3"
  },
  "language_info": {
   "codemirror_mode": {
    "name": "ipython",
    "version": 3
   },
   "file_extension": ".py",
   "mimetype": "text/x-python",
   "name": "python",
   "nbconvert_exporter": "python",
   "pygments_lexer": "ipython3",
   "version": "3.11.6"
  }
 },
 "nbformat": 4,
 "nbformat_minor": 5
}
